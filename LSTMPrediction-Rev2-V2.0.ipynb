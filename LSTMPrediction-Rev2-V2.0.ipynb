{
 "cells": [
  {
   "cell_type": "code",
   "execution_count": 1,
   "id": "5d99dc23-b01f-4d85-961c-79f9c5332d5b",
   "metadata": {},
   "outputs": [
    {
     "name": "stdout",
     "output_type": "stream",
     "text": [
      "WARNING:tensorflow:From C:\\Python310\\lib\\site-packages\\keras\\src\\losses.py:2976: The name tf.losses.sparse_softmax_cross_entropy is deprecated. Please use tf.compat.v1.losses.sparse_softmax_cross_entropy instead.\n",
      "\n"
     ]
    }
   ],
   "source": [
    "from pandas import DataFrame\n",
    "from pandas import Series\n",
    "from pandas import concat\n",
    "from pandas import read_csv\n",
    "from datetime import datetime\n",
    "from sklearn.metrics import mean_squared_error\n",
    "from sklearn.preprocessing import MinMaxScaler\n",
    "from keras.models import Sequential\n",
    "from keras.layers import Dense\n",
    "from keras.layers import LSTM\n",
    "from math import sqrt\n",
    "from matplotlib import pyplot\n",
    "import numpy"
   ]
  },
  {
   "cell_type": "code",
   "execution_count": 2,
   "id": "395d0499-d842-4b28-a218-2c1ca6a1e349",
   "metadata": {},
   "outputs": [],
   "source": [
    "def parser(x):\n",
    "    return datetime.strptime(x, '%d-%m-%Y')\n",
    " \n",
    "def timeseries_to_supervised(data, lag=1):\n",
    "    df = DataFrame(data)\n",
    "    columns = [df.shift(i) for i in range(1, lag+1)]\n",
    "    columns.append(df)\n",
    "    df = concat(columns, axis=1)\n",
    "    df.fillna(0, inplace=True)\n",
    "    return df\n",
    " \n",
    "def difference(dataset, interval=1):\n",
    "    diff = list()\n",
    "    for i in range(interval, len(dataset)):\n",
    "        value = dataset[i] - dataset[i - interval]\n",
    "        diff.append(value)\n",
    "    return Series(diff)\n",
    " \n",
    "def inverse_difference(history, yhat, interval=1):\n",
    "    return yhat + history[-interval]\n",
    " \n",
    "def scale(train, test):\n",
    "    scaler = MinMaxScaler(feature_range=(-1, 1))\n",
    "    scaler = scaler.fit(train)\n",
    "    train = train.reshape(train.shape[0], train.shape[1])\n",
    "    train_scaled = scaler.transform(train)\n",
    "    test = test.reshape(test.shape[0], test.shape[1])\n",
    "    test_scaled = scaler.transform(test)\n",
    "    return scaler, train_scaled, test_scaled\n",
    " \n",
    "def invert_scale(scaler, X, value):\n",
    "    new_row = [x for x in X] + [value]\n",
    "    array = numpy.array(new_row)\n",
    "    array = array.reshape(1, len(array))\n",
    "    inverted = scaler.inverse_transform(array)\n",
    "    return inverted[0, -1]\n",
    " \n",
    "def fit_lstm(train, batch_size, nb_epoch, neurons):\n",
    "    X, y = train[:, 0:-1], train[:, -1]\n",
    "    X = X.reshape(X.shape[0], 1, X.shape[1])\n",
    "    model = Sequential()\n",
    "    model.add(LSTM(neurons, batch_input_shape=(batch_size, X.shape[1], X.shape[2]), stateful=True))\n",
    "    model.add(Dense(1))\n",
    "    model.compile(loss='mean_squared_error', optimizer='adam')\n",
    "    for i in range(nb_epoch):\n",
    "        model.fit(X, y, epochs=1, batch_size=batch_size, verbose=0, shuffle=False)\n",
    "        model.reset_states()\n",
    "    return model\n",
    " \n",
    "def forecast_lstm(model, batch_size, X):\n",
    "    X = X.reshape(1, 1, len(X))\n",
    "    yhat = model.predict(X, batch_size=batch_size)\n",
    "    return yhat[0,0]"
   ]
  },
  {
   "cell_type": "code",
   "execution_count": 3,
   "id": "64b596b1-36e7-42ce-b005-389c8c8c00a5",
   "metadata": {},
   "outputs": [
    {
     "name": "stdout",
     "output_type": "stream",
     "text": [
      "              Sales\n",
      "2012-01-01   1317.0\n",
      "2012-02-01   2883.0\n",
      "2012-03-01   6698.0\n",
      "2012-04-01  10263.0\n",
      "2012-05-01  13630.0\n"
     ]
    },
    {
     "name": "stderr",
     "output_type": "stream",
     "text": [
      "C:\\Users\\ASUS\\AppData\\Local\\Temp\\ipykernel_13428\\148902392.py:1: FutureWarning: The argument 'date_parser' is deprecated and will be removed in a future version. Please use 'date_format' instead, or read your data in as 'object' dtype and then call 'to_datetime'.\n",
      "  series = read_csv('sales_data.csv', header=0, parse_dates=[0], index_col=0, date_parser=parser)\n"
     ]
    }
   ],
   "source": [
    "series = read_csv('sales_data.csv', header=0, parse_dates=[0], index_col=0, date_parser=parser)\n",
    "print(series.head())"
   ]
  },
  {
   "cell_type": "code",
   "execution_count": 4,
   "id": "b999015d-53b4-4cea-8c13-2c6bd97500a9",
   "metadata": {},
   "outputs": [
    {
     "name": "stdout",
     "output_type": "stream",
     "text": [
      "WARNING:tensorflow:From C:\\Python310\\lib\\site-packages\\keras\\src\\backend.py:873: The name tf.get_default_graph is deprecated. Please use tf.compat.v1.get_default_graph instead.\n",
      "\n",
      "WARNING:tensorflow:From C:\\Python310\\lib\\site-packages\\keras\\src\\optimizers\\__init__.py:309: The name tf.train.Optimizer is deprecated. Please use tf.compat.v1.train.Optimizer instead.\n",
      "\n",
      "WARNING:tensorflow:From C:\\Python310\\lib\\site-packages\\keras\\src\\utils\\tf_utils.py:492: The name tf.ragged.RaggedTensorValue is deprecated. Please use tf.compat.v1.ragged.RaggedTensorValue instead.\n",
      "\n",
      "71/71 [==============================] - 0s 1ms/step\n"
     ]
    },
    {
     "data": {
      "text/plain": [
       "array([[-0.9877851 ],\n",
       "       [-0.8701571 ],\n",
       "       [-0.77322876],\n",
       "       [-0.74981874],\n",
       "       [-0.8017163 ],\n",
       "       [-0.79455215],\n",
       "       [-0.8317634 ],\n",
       "       [-0.6268297 ],\n",
       "       [-0.5904706 ],\n",
       "       [-0.45083112],\n",
       "       [-0.4771064 ],\n",
       "       [-0.36485672],\n",
       "       [-0.65797555],\n",
       "       [-0.54718775],\n",
       "       [-0.41407645],\n",
       "       [-0.43272132],\n",
       "       [-0.41185594],\n",
       "       [-0.36692536],\n",
       "       [-0.40356362],\n",
       "       [-0.33675468],\n",
       "       [-0.32020772],\n",
       "       [-0.3054608 ],\n",
       "       [-0.31604707],\n",
       "       [-0.30536026],\n",
       "       [-0.5106318 ],\n",
       "       [-0.44394612],\n",
       "       [-0.33027303],\n",
       "       [-0.3256458 ],\n",
       "       [-0.36745852],\n",
       "       [-0.34451002],\n",
       "       [-0.3032307 ],\n",
       "       [-0.34495777],\n",
       "       [-0.30024153],\n",
       "       [-0.29195237],\n",
       "       [-0.2930674 ],\n",
       "       [-0.424201  ],\n",
       "       [-0.5122891 ],\n",
       "       [-0.4449247 ],\n",
       "       [-0.30708712],\n",
       "       [-0.28466034],\n",
       "       [-0.29508018],\n",
       "       [-0.25412256],\n",
       "       [-0.2384529 ],\n",
       "       [-0.21160255],\n",
       "       [-0.17029558],\n",
       "       [-0.10978337],\n",
       "       [-0.03564256],\n",
       "       [-0.4793492 ],\n",
       "       [-0.3960486 ],\n",
       "       [ 0.02411869],\n",
       "       [-0.2486407 ],\n",
       "       [-0.0345816 ],\n",
       "       [-0.14808558],\n",
       "       [-0.03939325],\n",
       "       [ 0.4210735 ],\n",
       "       [ 0.3705759 ],\n",
       "       [ 0.20414428],\n",
       "       [-0.06587918],\n",
       "       [ 0.38251293],\n",
       "       [-0.22499813],\n",
       "       [-0.09203716],\n",
       "       [ 0.33252832],\n",
       "       [ 0.07818297],\n",
       "       [ 0.23604201],\n",
       "       [ 0.38400736],\n",
       "       [ 0.28208643],\n",
       "       [ 0.3097603 ],\n",
       "       [ 0.33642113],\n",
       "       [-0.01407704],\n",
       "       [ 0.4071284 ],\n",
       "       [ 0.33822888]], dtype=float32)"
      ]
     },
     "execution_count": 4,
     "metadata": {},
     "output_type": "execute_result"
    }
   ],
   "source": [
    "raw_values = series.values\n",
    "diff_values = difference(raw_values, 1)\n",
    " \n",
    "supervised = timeseries_to_supervised(diff_values, 1)\n",
    "supervised_values = supervised.values\n",
    " \n",
    "# 6 months training, 2 months testing\n",
    "train, test = supervised_values[0:-24], supervised_values[-24:]\n",
    " \n",
    "scaler, train_scaled, test_scaled = scale(train, test)\n",
    " \n",
    "lstm_model = fit_lstm(train_scaled, 1, 3000, 4)\n",
    "train_reshaped = train_scaled[:, 0].reshape(len(train_scaled), 1, 1)\n",
    "lstm_model.predict(train_reshaped, batch_size=1)"
   ]
  },
  {
   "cell_type": "code",
   "execution_count": 5,
   "id": "642faa33-b146-4a64-8ced-052b9fb2a6d8",
   "metadata": {},
   "outputs": [
    {
     "name": "stdout",
     "output_type": "stream",
     "text": [
      "1/1 [==============================] - 0s 25ms/step\n",
      "Month=1, Predicted=758493.526721, Expected=759090.000000\n",
      "1/1 [==============================] - 0s 25ms/step\n",
      "Month=2, Predicted=774213.587754, Expected=775935.000000\n",
      "1/1 [==============================] - 0s 25ms/step\n",
      "Month=3, Predicted=794188.704181, Expected=802378.000000\n",
      "1/1 [==============================] - 0s 24ms/step\n",
      "Month=4, Predicted=813274.700238, Expected=822001.000000\n",
      "1/1 [==============================] - 0s 26ms/step\n",
      "Month=5, Predicted=837243.302432, Expected=846308.000000\n",
      "1/1 [==============================] - 0s 25ms/step\n",
      "Month=6, Predicted=859039.283899, Expected=871337.000000\n",
      "1/1 [==============================] - 0s 20ms/step\n",
      "Month=7, Predicted=884216.535097, Expected=900935.000000\n",
      "1/1 [==============================] - 0s 33ms/step\n",
      "Month=8, Predicted=913790.603773, Expected=937282.000000\n",
      "1/1 [==============================] - 0s 25ms/step\n",
      "Month=9, Predicted=949998.031506, Expected=981826.000000\n",
      "1/1 [==============================] - 0s 17ms/step\n",
      "Month=10, Predicted=994069.906464, Expected=1015900.000000\n",
      "1/1 [==============================] - 0s 24ms/step\n",
      "Month=11, Predicted=1028862.919014, Expected=1058488.000000\n",
      "1/1 [==============================] - 0s 25ms/step\n",
      "Month=12, Predicted=1070803.561849, Expected=1108388.000000\n",
      "1/1 [==============================] - 0s 25ms/step\n",
      "Month=13, Predicted=1120384.963010, Expected=1125103.000000\n",
      "1/1 [==============================] - 0s 25ms/step\n",
      "Month=14, Predicted=1143960.065914, Expected=1141994.000000\n",
      "1/1 [==============================] - 0s 25ms/step\n",
      "Month=15, Predicted=1160812.682993, Expected=1169633.000000\n",
      "1/1 [==============================] - 0s 25ms/step\n",
      "Month=16, Predicted=1180611.258416, Expected=1190888.000000\n",
      "1/1 [==============================] - 0s 25ms/step\n",
      "Month=17, Predicted=1205205.905562, Expected=1219275.000000\n",
      "1/1 [==============================] - 0s 21ms/step\n",
      "Month=18, Predicted=1231812.862040, Expected=1257092.000000\n",
      "1/1 [==============================] - 0s 25ms/step\n",
      "Month=19, Predicted=1269772.174926, Expected=1283662.000000\n",
      "1/1 [==============================] - 0s 17ms/step\n",
      "Month=20, Predicted=1296945.833209, Expected=1311327.000000\n",
      "1/1 [==============================] - 0s 25ms/step\n",
      "Month=21, Predicted=1324457.017769, Expected=1344455.000000\n",
      "1/1 [==============================] - 0s 25ms/step\n",
      "Month=22, Predicted=1357309.426349, Expected=1383630.000000\n",
      "1/1 [==============================] - 0s 32ms/step\n",
      "Month=23, Predicted=1396178.536741, Expected=1414527.000000\n",
      "1/1 [==============================] - 0s 24ms/step\n",
      "Month=24, Predicted=1427603.753599, Expected=1444943.000000\n"
     ]
    }
   ],
   "source": [
    "predictions = list()\n",
    "for i in range(len(test_scaled)):\n",
    "    X, y = test_scaled[i, 0:-1], test_scaled[i, -1]\n",
    "    yhat = forecast_lstm(lstm_model, 1, X)\n",
    "    yhat = invert_scale(scaler, X, yhat)\n",
    "    yhat = inverse_difference(raw_values, yhat, len(test_scaled)+1-i)\n",
    "    predictions.append(yhat)\n",
    "    expected = raw_values[len(train) + i + 1]\n",
    "    print('Month=%d, Predicted=%f, Expected=%f' % (i+1, yhat, expected))"
   ]
  },
  {
   "cell_type": "code",
   "execution_count": 6,
   "id": "f85000d7-ec97-4dc1-bae1-aa1c27f89934",
   "metadata": {},
   "outputs": [
    {
     "name": "stdout",
     "output_type": "stream",
     "text": [
      "Test RMSE: 18447.399\n"
     ]
    }
   ],
   "source": [
    "rmse = sqrt(mean_squared_error(raw_values[-24:], predictions))\n",
    "print('Test RMSE: %.3f' % rmse)"
   ]
  },
  {
   "cell_type": "code",
   "execution_count": 7,
   "id": "4018d67b-2425-4a72-b228-fd1d92df4009",
   "metadata": {},
   "outputs": [
    {
     "data": {
      "image/png": "[encoded data removed]",
      "text/plain": [
       "<Figure size 640x480 with 1 Axes>"
      ]
     },
     "metadata": {},
     "output_type": "display_data"
    }
   ],
   "source": [
    "pyplot.plot(raw_values[-24:], label='Original Data')\n",
    "pyplot.plot(predictions, label='Predicted Data')\n",
    "pyplot.legend()\n",
    "pyplot.show()"
   ]
  },
  {
   "cell_type": "code",
   "execution_count": 8,
   "id": "a64433b8-a6c0-453f-ab2c-d45aa33aaa7f",
   "metadata": {},
   "outputs": [
    {
     "name": "stdout",
     "output_type": "stream",
     "text": [
      "71/71 [==============================] - 0s 1ms/step\n"
     ]
    },
    {
     "data": {
      "text/plain": [
       "array([[-1.3380319 ],\n",
       "       [-0.72835845],\n",
       "       [-0.8698524 ],\n",
       "       [-0.68353224],\n",
       "       [-0.87618434],\n",
       "       [-0.72326916],\n",
       "       [-0.9063772 ],\n",
       "       [-0.574726  ],\n",
       "       [-0.62882435],\n",
       "       [-0.44052732],\n",
       "       [-0.48757768],\n",
       "       [-0.3674481 ],\n",
       "       [-0.663948  ],\n",
       "       [-0.54518193],\n",
       "       [-0.4149416 ],\n",
       "       [-0.43244523],\n",
       "       [-0.41204756],\n",
       "       [-0.367055  ],\n",
       "       [-0.40372133],\n",
       "       [-0.3369022 ],\n",
       "       [-0.32039368],\n",
       "       [-0.30567616],\n",
       "       [-0.31636405],\n",
       "       [-0.30572814],\n",
       "       [-0.51122314],\n",
       "       [-0.44458586],\n",
       "       [-0.3309099 ],\n",
       "       [-0.32663095],\n",
       "       [-0.36808825],\n",
       "       [-0.34528857],\n",
       "       [-0.3044504 ],\n",
       "       [-0.3461252 ],\n",
       "       [-0.30223495],\n",
       "       [-0.2951383 ],\n",
       "       [-0.29753816],\n",
       "       [-0.42562926],\n",
       "       [-0.5169035 ],\n",
       "       [-0.45254928],\n",
       "       [-0.31482738],\n",
       "       [-0.2971031 ],\n",
       "       [-0.30665255],\n",
       "       [-0.27105725],\n",
       "       [-0.26667804],\n",
       "       [-0.2546084 ],\n",
       "       [-0.2254753 ],\n",
       "       [-0.18908803],\n",
       "       [-0.14897631],\n",
       "       [-0.5059103 ],\n",
       "       [-0.47385198],\n",
       "       [-0.15869369],\n",
       "       [-0.37749332],\n",
       "       [-0.07293843],\n",
       "       [-0.02546795],\n",
       "       [-0.1001956 ],\n",
       "       [ 0.38065454],\n",
       "       [ 0.42261368],\n",
       "       [ 0.20026307],\n",
       "       [-0.10690282],\n",
       "       [ 0.45188206],\n",
       "       [-0.23611777],\n",
       "       [-0.08892779],\n",
       "       [ 0.32088515],\n",
       "       [ 0.07699491],\n",
       "       [ 0.24341118],\n",
       "       [ 0.3826527 ],\n",
       "       [ 0.28057006],\n",
       "       [ 0.31082818],\n",
       "       [ 0.33651197],\n",
       "       [-0.01423757],\n",
       "       [ 0.40726513],\n",
       "       [ 0.3382487 ]], dtype=float32)"
      ]
     },
     "execution_count": 8,
     "metadata": {},
     "output_type": "execute_result"
    }
   ],
   "source": [
    "lstm_model.predict(train_reshaped, batch_size=1)"
   ]
  },
  {
   "cell_type": "code",
   "execution_count": 11,
   "id": "b64335c2-71ad-41d5-9716-b506c32146b5",
   "metadata": {},
   "outputs": [
    {
     "name": "stdout",
     "output_type": "stream",
     "text": [
      "1/1 [==============================] - 0s 16ms/step\n",
      "-0.28394127\n"
     ]
    }
   ],
   "source": [
    "yhat = forecast_lstm(lstm_model, 1, X)\n",
    "print(yhat)"
   ]
  },
  {
   "cell_type": "code",
   "execution_count": 12,
   "id": "2fc8192c-1307-48e1-9786-909264d3f6c3",
   "metadata": {},
   "outputs": [],
   "source": [
    "X, y = test_scaled[i, 0:-1], test_scaled[i, -1]\n",
    "yhat = invert_scale(scaler, X, yhat)\n",
    "yhat = inverse_difference(raw_values, yhat, len(test_scaled)+1-i)"
   ]
  },
  {
   "cell_type": "code",
   "execution_count": null,
   "id": "40d27e86-b7f6-4a70-80ab-f674bc9bef8f",
   "metadata": {},
   "outputs": [],
   "source": []
  },
  {
   "cell_type": "code",
   "execution_count": null,
   "id": "32e4b97e-fe0f-41da-bf0f-42adfc57d5a2",
   "metadata": {},
   "outputs": [],
   "source": []
  },
  {
   "cell_type": "code",
   "execution_count": 13,
   "id": "21af9a2c-794d-4124-b74f-1ce0634fc0a6",
   "metadata": {},
   "outputs": [
    {
     "name": "stdout",
     "output_type": "stream",
     "text": [
      "[[1.317000e+03]\n",
      " [2.883000e+03]\n",
      " [6.698000e+03]\n",
      " [1.026300e+04]\n",
      " [1.363000e+04]\n",
      " [1.675400e+04]\n",
      " [1.978300e+04]\n",
      " [2.446900e+04]\n",
      " [3.021400e+04]\n",
      " [3.729800e+04]\n",
      " [4.405300e+04]\n",
      " [5.260700e+04]\n",
      " [5.718400e+04]\n",
      " [6.258800e+04]\n",
      " [7.057000e+04]\n",
      " [7.770800e+04]\n",
      " [8.516200e+04]\n",
      " [9.345400e+04]\n",
      " [1.008460e+05]\n",
      " [1.121190e+05]\n",
      " [1.210460e+05]\n",
      " [1.311010e+05]\n",
      " [1.401040e+05]\n",
      " [1.501140e+05]\n",
      " [1.557940e+05]\n",
      " [1.628240e+05]\n",
      " [1.724740e+05]\n",
      " [1.813690e+05]\n",
      " [1.937310e+05]\n",
      " [2.057940e+05]\n",
      " [2.170360e+05]\n",
      " [2.292080e+05]\n",
      " [2.401290e+05]\n",
      " [2.498680e+05]\n",
      " [2.595140e+05]\n",
      " [2.725520e+05]\n",
      " [2.786090e+05]\n",
      " [2.855600e+05]\n",
      " [2.959010e+05]\n",
      " [3.049950e+05]\n",
      " [3.165350e+05]\n",
      " [3.268990e+05]\n",
      " [3.358500e+05]\n",
      " [3.448220e+05]\n",
      " [3.549560e+05]\n",
      " [3.648820e+05]\n",
      " [3.749520e+05]\n",
      " [3.886510e+05]\n",
      " [3.948720e+05]\n",
      " [4.026350e+05]\n",
      " [4.164920e+05]\n",
      " [4.270230e+05]\n",
      " [4.384900e+05]\n",
      " [4.533530e+05]\n",
      " [4.664200e+05]\n",
      " [4.810120e+05]\n",
      " [4.982360e+05]\n",
      " [5.092430e+05]\n",
      " [5.224800e+05]\n",
      " [5.472650e+05]\n",
      " [5.582700e+05]\n",
      " [5.706470e+05]\n",
      " [5.891880e+05]\n",
      " [6.025530e+05]\n",
      " [6.191490e+05]\n",
      " [6.361950e+05]\n",
      " [6.517350e+05]\n",
      " [6.682490e+05]\n",
      " [6.894910e+05]\n",
      " [7.038060e+05]\n",
      " [7.209760e+05]\n",
      " [7.470810e+05]\n",
      " [7.590900e+05]\n",
      " [7.759350e+05]\n",
      " [8.023780e+05]\n",
      " [8.220010e+05]\n",
      " [8.463080e+05]\n",
      " [8.713370e+05]\n",
      " [9.009350e+05]\n",
      " [9.372820e+05]\n",
      " [9.818260e+05]\n",
      " [1.015900e+06]\n",
      " [1.058488e+06]\n",
      " [1.108388e+06]\n",
      " [1.125103e+06]\n",
      " [1.141994e+06]\n",
      " [1.169633e+06]\n",
      " [1.190888e+06]\n",
      " [1.219275e+06]\n",
      " [1.257092e+06]\n",
      " [1.283662e+06]\n",
      " [1.311327e+06]\n",
      " [1.344455e+06]\n",
      " [1.383630e+06]\n",
      " [1.414527e+06]\n",
      " [1.444943e+06]]\n"
     ]
    }
   ],
   "source": [
    "print(raw_values)"
   ]
  },
  {
   "cell_type": "code",
   "execution_count": 14,
   "id": "4f7b9cfe-e8d0-45bd-af98-16a2e53f3435",
   "metadata": {},
   "outputs": [
    {
     "name": "stdout",
     "output_type": "stream",
     "text": [
      "[array([758493.52672062]), array([774213.587754]), array([794188.70418128]), array([813274.70023776]), array([837243.3024323]), array([859039.28389887]), array([884216.53509658]), array([913790.60377309]), array([949998.03150586]), array([994069.90646378]), array([1028862.91901354]), array([1070803.56184924]), array([1120384.96301018]), array([1143960.06591448]), array([1160812.6829925]), array([1180611.25841636]), array([1205205.90556158]), array([1231812.86204012]), array([1269772.17492602]), array([1296945.83320915]), array([1324457.01776939]), array([1357309.4263492]), array([1396178.53674067]), array([1427603.75359889])]\n"
     ]
    }
   ],
   "source": [
    "print(predictions)"
   ]
  },
  {
   "cell_type": "code",
   "execution_count": 15,
   "id": "18d87b48-18fb-4625-8218-2927c298b35e",
   "metadata": {},
   "outputs": [
    {
     "name": "stdout",
     "output_type": "stream",
     "text": [
      "1/1 [==============================] - 0s 12ms/step\n",
      "1/1 [==============================] - 0s 26ms/step\n",
      "1/1 [==============================] - 0s 8ms/step\n",
      "1/1 [==============================] - 0s 18ms/step\n",
      "1/1 [==============================] - 0s 774us/step\n",
      "1/1 [==============================] - 0s 20ms/step\n",
      "1/1 [==============================] - 0s 9ms/step\n",
      "1/1 [==============================] - 0s 17ms/step\n",
      "1/1 [==============================] - 0s 12ms/step\n",
      "1/1 [==============================] - 0s 16ms/step\n",
      "1/1 [==============================] - 0s 18ms/step\n",
      "1/1 [==============================] - 0s 16ms/step\n",
      "Predicted values for the future time steps:\n",
      " [array([733821.02231575]), array([711733.09840825]), array([697418.09840825]), array([676176.09840825]), array([659662.09840825]), array([644122.09840825]), array([627076.09840825]), array([610480.09840825]), array([597115.09840825]), array([578574.09840825]), array([566197.09840825]), array([555192.09840825])]\n"
     ]
    }
   ],
   "source": [
    "import numpy as np\n",
    "num_future_steps = 12  \n",
    "\n",
    "future_predictions = []\n",
    "last_observed_values = test_scaled[-1, 1:] \n",
    "\n",
    "for i in range(num_future_steps):\n",
    "    yhat = forecast_lstm(lstm_model, 1, last_observed_values)\n",
    "    yhat = invert_scale(scaler, last_observed_values, yhat)\n",
    "    yhat = inverse_difference(raw_values, yhat, len(test_scaled) + 2 + i) \n",
    "    future_predictions.append(yhat)\n",
    "    last_observed_values = np.append(last_observed_values[1:], yhat)\n",
    "\n",
    "print(\"Predicted values for the future time steps:\\n\",future_predictions)"
   ]
  },
  {
   "cell_type": "code",
   "execution_count": null,
   "id": "b626248c-df7a-479e-b45d-8542a9911b5c",
   "metadata": {},
   "outputs": [],
   "source": []
  }
 ],
 "metadata": {
  "kernelspec": {
   "display_name": "Python 3 (ipykernel)",
   "language": "python",
   "name": "python3"
  },
  "language_info": {
   "codemirror_mode": {
    "name": "ipython",
    "version": 3
   },
   "file_extension": ".py",
   "mimetype": "text/x-python",
   "name": "python",
   "nbconvert_exporter": "python",
   "pygments_lexer": "ipython3",
   "version": "3.10.11"
  }
 },
 "nbformat": 4,
 "nbformat_minor": 5
}
